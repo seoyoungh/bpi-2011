{
 "cells": [
  {
   "cell_type": "markdown",
   "metadata": {},
   "source": [
    "## Translation\n",
    "\n",
    "- Google API 실행 한도가 있어 나누어 작업했습니다. "
   ]
  },
  {
   "cell_type": "code",
   "execution_count": null,
   "metadata": {},
   "outputs": [],
   "source": [
    "pip install googletrans"
   ]
  },
  {
   "cell_type": "code",
   "execution_count": null,
   "metadata": {},
   "outputs": [],
   "source": [
    "import os\n",
    "import pandas as pd"
   ]
  },
  {
   "cell_type": "code",
   "execution_count": null,
   "metadata": {},
   "outputs": [],
   "source": [
    "df = pd.read_csv('Hospital log.csv', sep=\";\")"
   ]
  },
  {
   "cell_type": "code",
   "execution_count": null,
   "metadata": {},
   "outputs": [],
   "source": [
    "df.head()"
   ]
  },
  {
   "cell_type": "code",
   "execution_count": null,
   "metadata": {},
   "outputs": [],
   "source": [
    "d = set()\n",
    "# e = set()\n",
    "for i in df.index:\n",
    "  dutch = df['event:concept:name'].loc[i]\n",
    "  d.add(dutch)"
   ]
  },
  {
   "cell_type": "code",
   "execution_count": null,
   "metadata": {},
   "outputs": [],
   "source": [
    "d = list(d)"
   ]
  },
  {
   "cell_type": "code",
   "execution_count": null,
   "metadata": {},
   "outputs": [],
   "source": [
    "d_eh = d[528:]"
   ]
  },
  {
   "cell_type": "code",
   "execution_count": null,
   "metadata": {},
   "outputs": [],
   "source": [
    "d_r = d[550:580]"
   ]
  },
  {
   "cell_type": "code",
   "execution_count": null,
   "metadata": {},
   "outputs": [],
   "source": [
    "print(d_r)"
   ]
  },
  {
   "cell_type": "code",
   "execution_count": null,
   "metadata": {},
   "outputs": [],
   "source": [
    "e_r = []\n",
    "for item in d_eh:\n",
    "  from googletrans import Translator\n",
    "  trans = Translator()\n",
    "  eng = trans.translate(item, src='nl', dest='en')\n",
    "  e_r.append(eng.text)"
   ]
  },
  {
   "cell_type": "code",
   "execution_count": null,
   "metadata": {},
   "outputs": [],
   "source": [
    "print(len(e))"
   ]
  },
  {
   "cell_type": "code",
   "execution_count": null,
   "metadata": {},
   "outputs": [],
   "source": [
    "print(e)"
   ]
  },
  {
   "cell_type": "code",
   "execution_count": null,
   "metadata": {},
   "outputs": [],
   "source": [
    "e_add = ['cT abdomen', 'Ultrasound - transurethral prostate', 'E.C.G. - electrocardiography', 'Vitamin E HPLC method', 'anti-chlamydia iga using elisa', 'standard material n.n.o.', 'ICU ligdag - 1st to 5th', 'Knee - m-z lower leg', 'cervix - cervix - laser photocoagulation', 'lupus anticoagulant using elisa', 'cytological examination - thyroid pun', 'lymf.syst. - Regional lymfeklierdissec', 'mammography chest wall', 'paclitaxel', 'bladder - bladder washout', 'treatment time - unit t3 - megavolt', 'cytological examination - vulva -', 'partial denture status', 'cea - tumor marker using meia', 'lymph node - scint sentinel node with pro', 'total cholesterol', 'sodium by flame photometry - urgent', 'day care - all spec.beh.kind. rev.', 'cefalinetijd - coagulation', 'delta-4-androstenedione', 'erythrocyte count - electronically', 'magnesium -aas - emergency', 'DHEA-sulfate, with extraction using ria', 'colon - sigmoid resection with fine', 'ultrasound carotid arteries artery', 'vagina - spectroscopy excl.weefselwegname', 'teletherapy - megavolt photons bestrali', 'colon - colonoscopy with biopsy', 'uric acid with uricase u.v. spectrofotome', 'nuclear research elsewhere', 'thorax', 'vulva - rad.vulvectomie - opp.en d', 'creatinine', 'protein fractionation using ive', 'ro-gel. as ass. at puncture - biopsy l', 'frozen section', 'intestine - colon passage scint.comp.statisch', 'Titration direct antiglobulin - coo', 'A204 190204 class 3a', 'elution of auto-antibodies against erythro', 'heart - Doppler echocardiography 2', 'anti-rubella IgG ELISA - in a sample,', 'Liver - excision of tumor metastasis', 'Spine - cervical', 'cervix - curettage', 'anti-parvovirus hydrochloric or igg Antist. ind.', 'mri spine - cervical', 'bronchus - bronch.toilet by verpl.-', 'interc.consult clinical neurology', 'Calcium - emergency', 'hematocrit by means of centrifugation', 'tympanometry - standard - audiological', 'urea - emergency', 'parathyroid hormone using radioisotopes', 'kinetic ASAT SGOT - emergency', 'lactic acid enzymatically - urgent', 'fsh enzyme-immunologically', 'mRI adrenal', 'Widal agglutination - yersinia 9', 'cytostatics - infusion therapy', 'bladder - cystoscopy with biopsy', 'clinical rate', 'barrels - venipuncture', 'Current ph - PCO2 - stand.bicarbonaat', 'Clinical map - obstetrics and gynecological', 'verlosk.-gynaec. card charge-out', 'cytological examination - liquor cerebrosp', 'folate using radioisotopes', 'pleural - puncture - diagnostic', 'colon - appendectomy NNE', 'zwachtelverband sling - construction', 'anti-hepatitis C virus by using elisa', 'Hepatitis-B-core anti-IgM', 'g of IgG immunoglobulin', 'cervix - lisexcisie cervix - diathe', 'ultrasound doppler jugular vein', 'alkaline phosphatase - kinetic - emergency', 'lay days - all spec.beh.kinderg.-reval.', 'echo shoulder - m-z upper arm', 'tuba uterina- applying clips during L', 'echo pelvic anatomy content code 83 with the exception of t', 'placing v.cava filter', 'bone - densitometry lwk', 'parturition - klin.of poliklin.met preprared', 'pelvis', '190 101 bovenreg.toesl. a101', 'osmolality', 'thrombin', 'leukocyte count electronic', 'coagulation factor xi - Activity', 'igg index']"
   ]
  },
  {
   "cell_type": "code",
   "execution_count": null,
   "metadata": {},
   "outputs": [],
   "source": [
    "len(e_add)"
   ]
  },
  {
   "cell_type": "code",
   "execution_count": null,
   "metadata": {},
   "outputs": [],
   "source": [
    "e.extend(e_add)"
   ]
  },
  {
   "cell_type": "code",
   "execution_count": null,
   "metadata": {},
   "outputs": [],
   "source": [
    "print(len(d))\n",
    "print(len(e))"
   ]
  },
  {
   "cell_type": "code",
   "execution_count": null,
   "metadata": {},
   "outputs": [],
   "source": [
    "tdf = pd.DataFrame(data={\"dutch\": d, \"english\": e})\n",
    "tdf.to_csv(\"./trans.csv\", sep=',',index=False)"
   ]
  },
  {
   "cell_type": "code",
   "execution_count": 2,
   "metadata": {},
   "outputs": [
    {
     "name": "stdout",
     "output_type": "stream",
     "text": [
      "<class 'str'>\n",
      "<class 'list'>\n",
      "['M16', '821', '821']\n",
      "{'821', 'M16'}\n"
     ]
    }
   ],
   "source": [
    "str = \"M16,821,821\"   \n",
    "print(type(str)) \n",
    "list_str = str.split(\",\")  \n",
    "print(type(list_str))\n",
    "print(list_str)\n",
    "set_str = set(list_str)\n",
    "print(set_str)"
   ]
  }
 ],
 "metadata": {
  "kernelspec": {
   "display_name": "Python 3",
   "language": "python",
   "name": "python3"
  },
  "language_info": {
   "codemirror_mode": {
    "name": "ipython",
    "version": 3
   },
   "file_extension": ".py",
   "mimetype": "text/x-python",
   "name": "python",
   "nbconvert_exporter": "python",
   "pygments_lexer": "ipython3",
   "version": "3.7.3"
  }
 },
 "nbformat": 4,
 "nbformat_minor": 2
}
